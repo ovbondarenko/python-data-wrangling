{
 "cells": [
  {
   "cell_type": "code",
   "execution_count": 52,
   "metadata": {},
   "outputs": [],
   "source": [
    "from bs4 import BeautifulSoup\n",
    "import requests\n",
    "import os\n",
    "import re"
   ]
  },
  {
   "cell_type": "code",
   "execution_count": 24,
   "metadata": {},
   "outputs": [],
   "source": [
    "base_url = r'https://www.icpsr.umich.edu/files/NACJD/ORIs/'\n",
    "response = requests.get(base_url)"
   ]
  },
  {
   "cell_type": "code",
   "execution_count": 25,
   "metadata": {},
   "outputs": [
    {
     "data": {
      "text/plain": [
       "'https://www.icpsr.umich.edu/files/NACJD/ORIs/01oris.html'"
      ]
     },
     "execution_count": 25,
     "metadata": {},
     "output_type": "execute_result"
    }
   ],
   "source": [
    "soup = BeautifulSoup(response.text, 'html.parser')\n",
    "\n",
    "# list of links to pages with counties, county law enforcemen agencies and their ORIs\n",
    "links = [os.path.join(base_url, link.get('href')) for link in soup.find_all('a')][4:-2]"
   ]
  },
  {
   "cell_type": "code",
   "execution_count": null,
   "metadata": {},
   "outputs": [],
   "source": [
    "def find_county_codes(text):\n",
    "    \n",
    "    county_dict = {}\n",
    "    county_raw, code_raw = text.a.get('name').split('_(FIPS=')\n",
    "    county = ' '.join(county_raw.split('_')[1:])\n",
    "    code = [i.strip(')') for i in re.split('=|_UCR', code_raw) if i]\n",
    "    county_dict['county'] = county\n",
    "    county_dict['fips'] = code[0]\n",
    "    county_dict['ucr'] = code[1]\n",
    "    \n",
    "    return county_dict"
   ]
  },
  {
   "cell_type": "code",
   "execution_count": null,
   "metadata": {},
   "outputs": [],
   "source": [
    "def find_agency_ori(text):\n",
    "    \n",
    "    agency_raw = text.text.split('ORI9')[1].strip().split('\\n')\n",
    "    agency_ori = []\n",
    "    for element in agency_raw:\n",
    "        data = [i for i in element.strip().split('   ') if i]\n",
    "        agency_dict = {}\n",
    "        agency_dict['agency'] = data[0]\n",
    "        agency_dict['ori7'] = data[1]\n",
    "        agency_dict['ori9'] = data[2]\n",
    "        agency_dict['state_abbr'] = data[2][:2]\n",
    "        agency_ori.append(agency_dict)\n",
    "    \n",
    "    return agency_ori\n"
   ]
  },
  {
   "cell_type": "code",
   "execution_count": 134,
   "metadata": {},
   "outputs": [],
   "source": [
    "def scrape_by_state(link):\n",
    "\n",
    "    response = requests.get(link)\n",
    "    soup = BeautifulSoup(response.text, 'html.parser')\n",
    "\n",
    "    agencies = []\n",
    "    for s, a in zip(soup.find_all('h3'), soup.find_all('pre')):\n",
    "        county = find_county_codes(s)\n",
    "        ori_codes = find_agency_ori(a)\n",
    "        for agency in ori_codes:\n",
    "            agencies.append({**county, **agency})\n",
    "\n",
    "\n",
    "    return agencies   "
   ]
  },
  {
   "cell_type": "code",
   "execution_count": null,
   "metadata": {},
   "outputs": [],
   "source": [
    "agencies = []\n",
    "for link in links:\n",
    "    agencies.extend(scrape_by_state(link))\n",
    "    "
   ]
  },
  {
   "cell_type": "code",
   "execution_count": 138,
   "metadata": {
    "scrolled": false
   },
   "outputs": [
    {
     "data": {
      "text/plain": [
       "21993"
      ]
     },
     "execution_count": 138,
     "metadata": {},
     "output_type": "execute_result"
    }
   ],
   "source": [
    "len(agencies)"
   ]
  },
  {
   "cell_type": "code",
   "execution_count": 139,
   "metadata": {},
   "outputs": [
    {
     "data": {
      "text/plain": [
       "{'county': 'COOSA',\n",
       " 'fips': '037',\n",
       " 'ucr': '019',\n",
       " 'agency': \"COOSA COUNTY SHERIFF'S OFFICE\",\n",
       " 'ori7': '  AL02200',\n",
       " 'ori9': 'AL0220000',\n",
       " 'state_abbr': 'AL'}"
      ]
     },
     "execution_count": 139,
     "metadata": {},
     "output_type": "execute_result"
    }
   ],
   "source": [
    "agencies[10000]"
   ]
  },
  {
   "cell_type": "code",
   "execution_count": null,
   "metadata": {},
   "outputs": [],
   "source": []
  }
 ],
 "metadata": {
  "kernelspec": {
   "display_name": "Python 3",
   "language": "python",
   "name": "python3"
  },
  "language_info": {
   "codemirror_mode": {
    "name": "ipython",
    "version": 3
   },
   "file_extension": ".py",
   "mimetype": "text/x-python",
   "name": "python",
   "nbconvert_exporter": "python",
   "pygments_lexer": "ipython3",
   "version": "3.7.1"
  }
 },
 "nbformat": 4,
 "nbformat_minor": 2
}
