{
 "cells": [
  {
   "cell_type": "code",
   "execution_count": 52,
   "metadata": {},
   "outputs": [],
   "source": [
    "# Import packages and specify dependencies\n",
    "from bs4 import BeautifulSoup\n",
    "import requests\n",
    "import os\n",
    "import re"
   ]
  },
  {
   "cell_type": "markdown",
   "metadata": {},
   "source": [
    "## Problem statement\n",
    "\n",
    "**Source:** Inter-university Consortium of Political and Social Research (ICPSR)  \n",
    "**Parent directory:** https://www.icpsr.umich.edu/files/NACJD/ORIs/\n",
    "\n",
    "**Goal:** Obtain a list of all law enforcement agencies in the US with their corresponding ORI codes and other pertaining information (county, state, FIPS and UCR codes)\n",
    "\n",
    "**Definitions:**\n",
    "- UCR (uniform crime reporting) code:  code\n",
    "- FIPS (federal information processing standards) code: unique county (and county equivalents) identification code \n",
    "- ORI (originating agency identifier) code"
   ]
  },
  {
   "cell_type": "markdown",
   "metadata": {},
   "source": [
    "### Use BeatifulSoup html parser to extract links"
   ]
  },
  {
   "cell_type": "code",
   "execution_count": 24,
   "metadata": {},
   "outputs": [],
   "source": [
    "# Extract all links to lists of law enforcement agencies in a state\n",
    "base_url = r'https://www.icpsr.umich.edu/files/NACJD/ORIs/'\n",
    "response = requests.get(base_url)\n",
    "\n",
    "soup = BeautifulSoup(response.text, 'html.parser')\n",
    "\n",
    "# list of links to pages with counties, county law enforcemen agencies and their ORIs\n",
    "links = [os.path.join(base_url, link.get('href')) for link in soup.find_all('a')][4:-2]"
   ]
  },
  {
   "cell_type": "code",
   "execution_count": null,
   "metadata": {},
   "outputs": [],
   "source": [
    "def find_county_codes(text):\n",
    "    # - accepts raw string and cleans it\n",
    "    # - outputs a dictionary with a county name, its FIPS code and UCR\n",
    "    county_dict = {}\n",
    "    county_raw, code_raw = text.a.get('name').split('_(FIPS=')\n",
    "    county = ' '.join(county_raw.split('_')[1:])\n",
    "    code = [i.strip(')') for i in re.split('=|_UCR', code_raw) if i]\n",
    "    county_dict['county'] = county\n",
    "    county_dict['fips'] = code[0]\n",
    "    county_dict['ucr'] = code[1]\n",
    "    \n",
    "    return county_dict"
   ]
  },
  {
   "cell_type": "code",
   "execution_count": null,
   "metadata": {},
   "outputs": [],
   "source": [
    "def find_agency_ori(text):\n",
    "    # - accepts raw string and cleans it\n",
    "    # - outputs a list of dictionaries with an agency name, its ORI7 and ORI9 codes and abbreviated state name\n",
    "    agency_raw = text.text.split('ORI9')[1].strip().split('\\n')\n",
    "    agency_ori = []\n",
    "    for element in agency_raw:\n",
    "        data = [i for i in element.strip().split('   ') if i]\n",
    "        agency_dict = {}\n",
    "        agency_dict['agency'] = data[0]\n",
    "        agency_dict['ori7'] = data[1]\n",
    "        agency_dict['ori9'] = data[2]\n",
    "        agency_dict['state_abbr'] = data[2][:2]\n",
    "        agency_ori.append(agency_dict)\n",
    "    \n",
    "    return agency_ori\n"
   ]
  },
  {
   "cell_type": "markdown",
   "metadata": {},
   "source": [
    "### Get a list of all law enforcement agencies with codes\n",
    "\n",
    "The list of all law enforcement agencies is yielded as a list of dictionaries. Each dictionary contains the following fileds:\n",
    "- agency\n",
    "- county\n",
    "- state_abbr\n",
    "- ORI7\n",
    "- ORI9\n",
    "- FIPS \n",
    "- UCR"
   ]
  },
  {
   "cell_type": "code",
   "execution_count": 134,
   "metadata": {},
   "outputs": [],
   "source": [
    "def scrape_by_state(link):\n",
    "    # - Scrapes all html text in a given link\n",
    "    # - Searches for tags 'h3' and 'pre'\n",
    "    # - Passes found text to find_agency_ori and find_county_codes functions\n",
    "    # - Merges the two agency and county dictionaties\n",
    "    # - Outputs a list of dictonaries with keys: county, agency, state_abbr, ori9, ori7, fips, ucr \n",
    "\n",
    "    response = requests.get(link)\n",
    "    soup = BeautifulSoup(response.text, 'html.parser')\n",
    "\n",
    "    agencies = []\n",
    "    for s, a in zip(soup.find_all('h3'), soup.find_all('pre')):\n",
    "        county = find_county_codes(s)\n",
    "        ori_codes = find_agency_ori(a)\n",
    "        for agency in ori_codes:\n",
    "            agencies.append({**county, **agency})\n",
    "\n",
    "\n",
    "    return agencies   \n",
    "\n",
    "agencies = []\n",
    "for link in links:\n",
    "    agencies.extend(scrape_by_state(link))"
   ]
  },
  {
   "cell_type": "code",
   "execution_count": 142,
   "metadata": {},
   "outputs": [
    {
     "data": {
      "text/plain": [
       "{'county': 'COOSA',\n",
       " 'fips': '037',\n",
       " 'ucr': '019',\n",
       " 'agency': \"COOSA COUNTY SHERIFF'S OFFICE\",\n",
       " 'ori7': '  AL02200',\n",
       " 'ori9': 'AL0220000',\n",
       " 'state_abbr': 'AL'}"
      ]
     },
     "execution_count": 142,
     "metadata": {},
     "output_type": "execute_result"
    }
   ],
   "source": [
    "# Example agency record\n",
    "agencies[100]"
   ]
  },
  {
   "cell_type": "markdown",
   "metadata": {},
   "source": [
    "### Save data as json file"
   ]
  },
  {
   "cell_type": "code",
   "execution_count": 141,
   "metadata": {},
   "outputs": [],
   "source": [
    "import json\n",
    "with open('data/agencies.txt', 'w+') as outfile:\n",
    "    json.dump(agencies, outfile)"
   ]
  }
 ],
 "metadata": {
  "kernelspec": {
   "display_name": "Python 3",
   "language": "python",
   "name": "python3"
  },
  "language_info": {
   "codemirror_mode": {
    "name": "ipython",
    "version": 3
   },
   "file_extension": ".py",
   "mimetype": "text/x-python",
   "name": "python",
   "nbconvert_exporter": "python",
   "pygments_lexer": "ipython3",
   "version": "3.7.1"
  }
 },
 "nbformat": 4,
 "nbformat_minor": 2
}
